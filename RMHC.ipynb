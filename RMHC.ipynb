{
 "cells": [
  {
   "cell_type": "markdown",
   "id": "bf17664f-3d89-47bd-84e1-d4b271dd519e",
   "metadata": {},
   "source": [
    "# Random-mutation hill-climbing (RMHC)"
   ]
  },
  {
   "cell_type": "code",
   "execution_count": 18,
   "id": "3bc9a909-7a8b-4bd8-8970-ec61d21862ab",
   "metadata": {},
   "outputs": [],
   "source": [
    "# Librerias\n",
    "import random\n",
    "import numpy as np"
   ]
  },
  {
   "cell_type": "code",
   "execution_count": 19,
   "id": "b557774a-81b6-428d-935d-ede794e88cee",
   "metadata": {},
   "outputs": [],
   "source": [
    "# Random-mutation hill-climbing\n",
    "def RMHC(initial_state, cost_funct, new_state_funct, num_iterations = 100, max_or_min = 'max'):\n",
    "    \"\"\"\n",
    "    Random-Mutation Hill Climbing algorithm.\n",
    "\n",
    "    Parameters:\n",
    "    - initial_state: Estado inicial del sistema.\n",
    "    - cost_funct: Función que evalúa el costo (o la calidad) del estado.\n",
    "    - new_state_funct: Función que genera un nuevo estado a partir del estado actual.\n",
    "    - num_iterations: Número máximo de iteraciones a ejecutar.\n",
    "    - stagnation_limit: Número máximo de iteraciones sin mejora antes de detenerse (opcional).\n",
    "\n",
    "    Returns:\n",
    "    - current_state: El mejor estado encontrado después de las iteraciones.\n",
    "    \"\"\"\n",
    "    current_state = initial_state\n",
    "    current_eval = cost_funct(current_state)\n",
    "    count = 0\n",
    "    while count < num_iterations:\n",
    "        new_state = new_state_funct(current_state)\n",
    "        new_eval = cost_funct(new_state)\n",
    "        if max_or_min == 'max':\n",
    "            if new_eval > current_eval:\n",
    "                current_state = new_state\n",
    "                current_eval = new_eval\n",
    "        elif max_or_min == 'min':\n",
    "            if new_eval < current_eval:\n",
    "                current_state = new_state\n",
    "                current_eval = new_eval\n",
    "        else:\n",
    "            print('Operación no definida')\n",
    "        count += 1\n",
    "    return current_state"
   ]
  },
  {
   "cell_type": "markdown",
   "id": "fd5fe0fe",
   "metadata": {},
   "source": [
    "### Función cuadrática"
   ]
  },
  {
   "cell_type": "markdown",
   "id": "5216e5d8-a7b9-47f6-900b-36d2556dcb1b",
   "metadata": {},
   "source": [
    "$$f(X) = \\sum _{i=1} ^{D} x_i ^2 \\text{ ,  con  } -10 <= x_i <= 10$$"
   ]
  },
  {
   "cell_type": "code",
   "execution_count": 20,
   "id": "11e7540e-8f60-41bc-b97c-4a9eb9ec55b5",
   "metadata": {},
   "outputs": [],
   "source": [
    "D = 5 # Tamño del vector de entrada\n",
    "initial_state_QF = np.array([round(random.choice([-1, 1]) * random.random() * 10, 3) for _ in range(D)]) # Se genera un vector aleatorio con valores en el rango [-10, 10]"
   ]
  },
  {
   "cell_type": "code",
   "execution_count": 21,
   "id": "66d4a064-9858-4418-9a22-fdc7180ddc37",
   "metadata": {},
   "outputs": [],
   "source": [
    "def f(state):\n",
    "    return sum(state**2) # retorna la suma de los cuadrados de los elementos del estado ingresado\n",
    "    \n",
    "def random_new_state(current_state):\n",
    "    indx = random.randint(0, D - 1)\n",
    "    new_state = current_state.copy()\n",
    "    new_state[indx] = round(random.choice([-1, 1]) * random.random() * 10, 3) #genera un número aleatorio en el rango de -10 a 10\n",
    "    return new_state"
   ]
  },
  {
   "cell_type": "code",
   "execution_count": 22,
   "id": "ca61220f-e228-4ee9-b457-7963a397c357",
   "metadata": {},
   "outputs": [
    {
     "name": "stdout",
     "output_type": "stream",
     "text": [
      "Estado inicial: [-0.86   0.097  2.464  2.682 -5.472]\n",
      "Valor del estado incial: 43.956213000000005\n"
     ]
    }
   ],
   "source": [
    "print(f'Estado inicial: {initial_state_QF}')\n",
    "print(f'Valor del estado incial: {f(initial_state_QF)}')"
   ]
  },
  {
   "cell_type": "code",
   "execution_count": 23,
   "id": "bd2872de-68bf-48ed-a1af-5b449b0ab4da",
   "metadata": {},
   "outputs": [
    {
     "name": "stdout",
     "output_type": "stream",
     "text": [
      "Estado final: [ 0.     0.001  0.003 -0.002 -0.004]\n",
      "Valor del estado final: 3e-05\n"
     ]
    }
   ],
   "source": [
    "QF_result = RMHC(initial_state_QF, f, random_new_state, 10000, 'min')\n",
    "print(f'Estado final: {QF_result}')\n",
    "print(f'Valor del estado final: {f(QF_result)}')"
   ]
  },
  {
   "cell_type": "markdown",
   "id": "609896ef-d1a5-497f-bd27-1da0b8c93006",
   "metadata": {},
   "source": [
    "### Travel Salesman Problem (TSP)"
   ]
  },
  {
   "cell_type": "markdown",
   "id": "7f136d28",
   "metadata": {},
   "source": [
    "El objetivo es minimizar la distancia total recorrida. De manera que se puede definir la función objetivo como:\n",
    "\n",
    "$$\n",
    "f(\\pi) = d(\\pi_n, \\pi_1) + \\sum_{i=1}^{n-1} d(\\pi_i, \\pi_{i+1}),\n",
    "$$\n",
    "\n",
    "donde $d(i, j)$ es la distancia entre la ciudad $i$ y la ciudad $j$. Así, el algoritmo acepta la mutación si $f(\\pi_{nuevo}) < f(\\pi _{actual})$."
   ]
  },
  {
   "cell_type": "code",
   "execution_count": 24,
   "id": "48db0362-666e-4b61-b010-24cf12c95e50",
   "metadata": {},
   "outputs": [],
   "source": [
    "n = 5 # Número de ciudades\n",
    "# Inicialización del estado (tour inicial aleatorio)\n",
    "initial_state_TSP = random.sample(range(n), n)  # Generamos una permutación aleatoria de ciudades"
   ]
  },
  {
   "cell_type": "code",
   "execution_count": 25,
   "id": "7709f5c8-d002-45ab-9964-f2d1a0c7ed90",
   "metadata": {},
   "outputs": [],
   "source": [
    "distance_matrix = np.zeros([n, n])\n",
    "for i in range(n):\n",
    "    for j in range(i):\n",
    "        distance_matrix[i, j] = distance_matrix[j, i] = random.randint(1, 10)"
   ]
  },
  {
   "cell_type": "code",
   "execution_count": 26,
   "id": "7688b7ba-3648-46b7-8614-0d97243797c2",
   "metadata": {},
   "outputs": [],
   "source": [
    "def calculate_total_distance(tour, dist_matrix = distance_matrix):\n",
    "    total_dist = 0\n",
    "    for i in range(len(tour)-1):\n",
    "        total_dist += dist_matrix[tour[i]][tour[i + 1]]\n",
    "    total_dist += dist_matrix[tour[-1]][tour[0]]\n",
    "    return total_dist\n",
    "    \n",
    "def generate_random_instance(tour):\n",
    "    new_tour = tour.copy()\n",
    "    indx1, indx2 = random.sample(range(len(tour)), 2) # Seleciona dos indices aleatoriamente\n",
    "    new_tour[indx1], new_tour[indx2] = new_tour[indx2], new_tour[indx1] # Se intercambia el valor de los items con los indicies selecionados anteriormente\n",
    "    return new_tour"
   ]
  },
  {
   "cell_type": "code",
   "execution_count": 27,
   "id": "e98a8d62",
   "metadata": {},
   "outputs": [
    {
     "name": "stdout",
     "output_type": "stream",
     "text": [
      "Estado inicial: [2, 0, 3, 4, 1]\n",
      "Distancia entre caminos: [[ 0.  9.  9.  3.  8.]\n",
      " [ 9.  0.  2. 10.  7.]\n",
      " [ 9.  2.  0.  8.  6.]\n",
      " [ 3. 10.  8.  0.  9.]\n",
      " [ 8.  7.  6.  9.  0.]]\n",
      "Valor del estado inicial: 30.0\n"
     ]
    }
   ],
   "source": [
    "print(f'Estado inicial: {initial_state_TSP}')\n",
    "print(f'Distancia entre caminos: {distance_matrix}')\n",
    "print(f'Valor del estado inicial: {calculate_total_distance(initial_state_TSP)}')"
   ]
  },
  {
   "cell_type": "code",
   "execution_count": 28,
   "id": "33c223c6-2a74-4cf4-b204-e5444c900795",
   "metadata": {},
   "outputs": [
    {
     "name": "stdout",
     "output_type": "stream",
     "text": [
      "Estado final: [4, 0, 3, 2, 1]\n",
      "Valor del estado final: 28.0\n"
     ]
    }
   ],
   "source": [
    "TSP_result = RMHC(initial_state_TSP, calculate_total_distance, generate_random_instance, 100, 'min')\n",
    "print(f'Estado final: {TSP_result}')\n",
    "print(f'Valor del estado final: {calculate_total_distance(TSP_result)}')"
   ]
  },
  {
   "cell_type": "markdown",
   "id": "7b1ab320-6df4-4a35-8d7a-c62b4493caa1",
   "metadata": {},
   "source": [
    "### Knapsack problem"
   ]
  },
  {
   "cell_type": "markdown",
   "id": "4f2c1ea1",
   "metadata": {},
   "source": [
    "Función heurística:\n",
    "El objetivo es maximizar el valor total de los artículos seleccionados, sujeto a la restricción de peso.\n",
    "\n",
    "$$\n",
    "h(x) = \\left\\{\\begin{matrix}\n",
    " -1,\\;\\;\\; \\text{if} \\;\\;\\; \\sum (w_i \\cdot x_i) > \\text{Peso máximo}\\\\\n",
    "  \\sum (v_i \\cdot x_i), \\;\\;\\; \\text{en caso contrario}\n",
    "\\end{matrix}\\right.\n",
    "$$"
   ]
  },
  {
   "cell_type": "code",
   "execution_count": 29,
   "id": "63f713bd-a704-4c88-8268-52565370385b",
   "metadata": {},
   "outputs": [],
   "source": [
    "n_items = 5 # número de items para elegir\n",
    "max_weight = 25 # peso máximo permitido\n",
    "# Define los pesos y valores de los objetos\n",
    "value_list = np.array([random.randint(1, 50) for _ in range(n_items)])\n",
    "weight_list = np.array([random.randint(1, 20) for _ in range(n_items)])"
   ]
  },
  {
   "cell_type": "code",
   "execution_count": 30,
   "id": "671aa2da-3255-4085-9e51-375454afad95",
   "metadata": {},
   "outputs": [],
   "source": [
    "#Define el estado inicial aletoriamente\n",
    "initial_state_KP = np.array([random.randint(0, 1) for _ in range(n_items)])"
   ]
  },
  {
   "cell_type": "code",
   "execution_count": 31,
   "id": "94a9a437-0cd4-444e-943d-2e4664420e79",
   "metadata": {},
   "outputs": [],
   "source": [
    "# Define la función heurística\n",
    "def h(state, values = value_list, weights = weight_list, maxweight = max_weight):\n",
    "    value = 0 \n",
    "    if state @ weights > maxweight:\n",
    "        value = -1 # Si el valor total de los objetos se pasa del máximo se retorna infinito\n",
    "    else:\n",
    "        value = state @ values # En caso contrario se retorna el valor total de los objetos\n",
    "    return value"
   ]
  },
  {
   "cell_type": "code",
   "execution_count": 32,
   "id": "13caa9c6-e4cb-414b-9b3c-6db4afcdd4bf",
   "metadata": {},
   "outputs": [],
   "source": [
    "# Generar vecinos\n",
    "def neighbors(state):\n",
    "    newstate = state.copy()\n",
    "    idx_to_mutate = random.randint(0, n_items - 1)\n",
    "    newstate[idx_to_mutate] = 1 - newstate[idx_to_mutate]  # Cambia el valor (si 0 -> 1 y si 1 -> 0)\n",
    "    return newstate"
   ]
  },
  {
   "cell_type": "code",
   "execution_count": 33,
   "id": "031b9b43",
   "metadata": {},
   "outputs": [
    {
     "name": "stdout",
     "output_type": "stream",
     "text": [
      "Estado inicial: [0 1 0 1 1]\n",
      "Valores de los items: [29 27 27 20 26]\n",
      "Pesos de los items: [ 6  9  1  4 19]\n",
      "Peso máximo permitido: 25\n",
      "Valor del estado incial: -1\n"
     ]
    }
   ],
   "source": [
    "print(f'Estado inicial: {initial_state_KP}')\n",
    "print(f'Valores de los items: {value_list}')\n",
    "print(f'Pesos de los items: {weight_list}')\n",
    "print(f'Peso máximo permitido: {max_weight}')\n",
    "print(f'Valor del estado incial: {h(initial_state_KP)}')"
   ]
  },
  {
   "cell_type": "code",
   "execution_count": 34,
   "id": "c7e85ba7",
   "metadata": {},
   "outputs": [
    {
     "name": "stdout",
     "output_type": "stream",
     "text": [
      "Estado final: [0 0 1 1 1]\n",
      "Valor del estado final: 73\n",
      "Peso total de los objetos del estado final: 24\n"
     ]
    }
   ],
   "source": [
    "KP_result = RMHC(initial_state_KP, h, neighbors)\n",
    "print(f'Estado final: {KP_result}')\n",
    "print(f'Valor del estado final: {h(KP_result)}')\n",
    "print(f'Peso total de los objetos del estado final: {KP_result @ weight_list}')"
   ]
  }
 ],
 "metadata": {
  "kernelspec": {
   "display_name": "Python 3 (ipykernel)",
   "language": "python",
   "name": "python3"
  },
  "language_info": {
   "codemirror_mode": {
    "name": "ipython",
    "version": 3
   },
   "file_extension": ".py",
   "mimetype": "text/x-python",
   "name": "python",
   "nbconvert_exporter": "python",
   "pygments_lexer": "ipython3",
   "version": "3.10.12"
  }
 },
 "nbformat": 4,
 "nbformat_minor": 5
}
