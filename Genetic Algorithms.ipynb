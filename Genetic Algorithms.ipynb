{
 "cells": [
  {
   "cell_type": "markdown",
   "id": "f27b8342-5c27-4ca6-ac42-cc06d2f34947",
   "metadata": {},
   "source": [
    "# Evolutionary Algorithms"
   ]
  },
  {
   "cell_type": "code",
   "execution_count": 1,
   "id": "60f41ba6-d224-4cfb-b765-ea3c32c0a151",
   "metadata": {},
   "outputs": [],
   "source": [
    "import numpy as np\n",
    "import random\n",
    "import matplotlib.pyplot as plt"
   ]
  },
  {
   "cell_type": "markdown",
   "id": "3780ec13-24db-4c5e-981a-2d849e01195d",
   "metadata": {},
   "source": [
    "## Selection"
   ]
  },
  {
   "cell_type": "markdown",
   "id": "af5ee0b7-d112-4014-831d-cb1bc477a9d2",
   "metadata": {},
   "source": [
    "### Tournament Operator"
   ]
  },
  {
   "cell_type": "code",
   "execution_count": 2,
   "id": "9b41df36-2794-45bd-95c7-b72cb65b0d7c",
   "metadata": {},
   "outputs": [],
   "source": [
    "def tournament(list_pop: list, fitness_funct, tournament_size, n_tournaments, minimize=False):\n",
    "    selected = []\n",
    "    for _ in range(n_tournaments):\n",
    "        rand_inds = random.sample(list_pop, tournament_size)\n",
    "        best_ind = rand_inds[0]\n",
    "        fitness_val = fitness_funct(best_ind)\n",
    "        for ind in rand_inds[1:]:\n",
    "            new_fitness = fitness_funct(ind)\n",
    "            if minimize:\n",
    "                if new_fitness <= fitness_val:\n",
    "                    best_ind = ind\n",
    "                    fitness_val = new_fitness\n",
    "            else:\n",
    "                if new_fitness >= fitness_val:\n",
    "                    best_ind = ind\n",
    "                    fitness_val = new_fitness\n",
    "        selected.append(best_ind)\n",
    "    return selected"
   ]
  },
  {
   "cell_type": "markdown",
   "id": "e92ec04a-913f-4450-8a8c-9f9d276d161a",
   "metadata": {},
   "source": [
    "### Stochastic Universal Selection"
   ]
  },
  {
   "cell_type": "code",
   "execution_count": 3,
   "id": "514b62c1-8668-4352-89e7-b74af95abfac",
   "metadata": {},
   "outputs": [],
   "source": [
    "def SUS(list_pop: list, fitness_funct, k, minimize=False):\n",
    "    fitness_list = [fitness_funct(ind) for ind in list_pop]\n",
    "\n",
    "     # Si estamos minimizando, invertimos los valores\n",
    "    if minimize:\n",
    "        max_fitness = max(fitness_list)\n",
    "        fitness_list = [max_fitness - fit for fit in fitness_list]\n",
    "    \n",
    "    # Evita división entre cero\n",
    "    total_fitness = np.sum(fitness_list)\n",
    "    if total_fitness == 0:\n",
    "        probs_list = np.array([1/len(fitness_list) for _ in fitness_list])\n",
    "    else:\n",
    "        probs_list = np.array(fitness_list)/total_fitness\n",
    "    \n",
    "    # Probabilidades acumuladas\n",
    "    cum_probs = np.cumsum(probs_list)\n",
    "    \n",
    "    # Iniciar desde un punto aleatorio en [0, 1/k)\n",
    "    start = random.uniform(0, 1 / k)\n",
    "    pointers = [start + i / k for i in range(k)]\n",
    "    \n",
    "    sols = []\n",
    "    idx = 0\n",
    "    for p in pointers:\n",
    "        while p > cum_probs[idx]:\n",
    "            idx += 1\n",
    "        sols.append(list_pop[idx])\n",
    "    \n",
    "    return sols"
   ]
  },
  {
   "cell_type": "markdown",
   "id": "e23cdc6f-4ac0-42b3-a59b-b8a7d5275406",
   "metadata": {},
   "source": [
    "### Proportional sampling"
   ]
  },
  {
   "cell_type": "code",
   "execution_count": 4,
   "id": "c9e43974-70c3-44c0-b32f-69dfbe183307",
   "metadata": {},
   "outputs": [],
   "source": [
    "def RWS(list_pop: list, fitness_funct, k, minimize=False):\n",
    "    fitness_list = [fitness_funct(ind) for ind in list_pop]\n",
    "\n",
    "    # Si estamos minimizando, invertimos los valores\n",
    "    if minimize:\n",
    "        max_fitness = max(fitness_list)\n",
    "        fitness_list = [max_fitness - fit for fit in fitness_list]\n",
    "\n",
    "    # Evita división entre cero\n",
    "    total_fitness = np.sum(fitness_list)\n",
    "    if total_fitness == 0:\n",
    "        probs_list = np.array([1/len(fitness_list) for _ in fitness_list])\n",
    "    else:\n",
    "        probs_list = np.array(fitness_list)/total_fitness\n",
    "    \n",
    "    # Probabilidades acumuladas\n",
    "    cum_probs = np.cumsum(probs_list)\n",
    "    \n",
    "    pointers = [random.uniform(0, 1) for i in range(k)]\n",
    "    \n",
    "    sols = []\n",
    "    for p in pointers:\n",
    "        idx = 0\n",
    "        while p > cum_probs[idx]:\n",
    "            idx += 1\n",
    "        sols.append(list_pop[idx])\n",
    "    \n",
    "    return sols"
   ]
  },
  {
   "cell_type": "markdown",
   "id": "de87eeeb-c2cc-4e8d-87e9-97cfc9c73ca2",
   "metadata": {},
   "source": [
    "## Crossover"
   ]
  },
  {
   "cell_type": "markdown",
   "id": "864d5acd-3e8b-407b-b3c6-ada404e4593a",
   "metadata": {},
   "source": [
    "### One point crossover"
   ]
  },
  {
   "cell_type": "code",
   "execution_count": 5,
   "id": "6c4dc5c1-b0c1-4d93-aacf-0be8e6382ba6",
   "metadata": {},
   "outputs": [],
   "source": [
    "def one_point_crossover(ind_1: list, ind_2: list):\n",
    "    c1, c2 = ind_1.copy(), ind_2.copy()\n",
    "    n = len(ind_1)\n",
    "    point = random.randint(1, n-1)\n",
    "    for i in range(point):\n",
    "        c1[i], c2[i] = c2[i], c1[i]\n",
    "    return c1, c2"
   ]
  },
  {
   "cell_type": "markdown",
   "id": "6f23f575-2716-4915-ad99-a326568805b0",
   "metadata": {},
   "source": [
    "### Two points crossover"
   ]
  },
  {
   "cell_type": "code",
   "execution_count": 6,
   "id": "a4e167fe-cc49-4f02-bad4-59f6dc691621",
   "metadata": {},
   "outputs": [],
   "source": [
    "def two_point_crossover(ind_1: list, ind_2: list):\n",
    "    c1, c2 = ind_1.copy(), ind_2.copy()\n",
    "    n = len(ind_1)\n",
    "    if n <= 2:\n",
    "        return c1, c2\n",
    "    point1 = random.randint(1, n-2)\n",
    "    point2 = random.randint(point1 + 1, n-1)\n",
    "    for i in range(point1, point2):\n",
    "        c1[i], c2[i] = c2[i], c1[i]\n",
    "    return c1, c2"
   ]
  },
  {
   "cell_type": "markdown",
   "id": "c9cec270-cb18-43df-8b25-ec96746f8f66",
   "metadata": {},
   "source": [
    "### Uniform crossover"
   ]
  },
  {
   "cell_type": "code",
   "execution_count": 7,
   "id": "2827dd82-cb6c-4722-a8b3-6a53523390eb",
   "metadata": {},
   "outputs": [],
   "source": [
    "def uniform_crossover(ind_1: list, ind_2: list):\n",
    "    c1, c2 = ind_1.copy(), ind_2.copy()\n",
    "    n = len(ind_1)\n",
    "    for i in range(n):\n",
    "        if random.random() <= 0.5:\n",
    "            c1[i], c2[i] = c2[i], c1[i]\n",
    "    return c1, c2"
   ]
  },
  {
   "cell_type": "markdown",
   "id": "15594a58-cafe-4544-a2b1-0514318f29e4",
   "metadata": {},
   "source": [
    "## Replacement"
   ]
  },
  {
   "cell_type": "markdown",
   "id": "d832286c-4c44-4c2d-ba38-b433902c61b0",
   "metadata": {},
   "source": [
    "### Random based replacements"
   ]
  },
  {
   "cell_type": "code",
   "execution_count": 8,
   "id": "3365a345-b233-4e0c-9dab-59740ce52ae2",
   "metadata": {},
   "outputs": [],
   "source": [
    "def random_based_replacement(parents, offspring):\n",
    "    n_offspring = len(offspring)\n",
    "    n_parents = len(parents)\n",
    "    new_pop = []\n",
    "    for i in range(n_parents):\n",
    "        if i < n_offspring and random.random() > 0.5:\n",
    "            new_pop.append(offspring[i])\n",
    "        else:\n",
    "            new_pop.append(parents[i])\n",
    "    return new_pop"
   ]
  },
  {
   "cell_type": "markdown",
   "id": "ca64b0cb-4ffc-4307-807e-380373f5bad3",
   "metadata": {},
   "source": [
    "### Elitism replacement"
   ]
  },
  {
   "cell_type": "code",
   "execution_count": 9,
   "id": "a2a4f3fd-c0e2-41d4-9296-d756d0c9516b",
   "metadata": {},
   "outputs": [],
   "source": [
    "def elitism_replacement(parents, offspring, fitness_funct, num_parents_selected, minimize=False):\n",
    "    n = len(parents)\n",
    "    if num_parents_selected > n:\n",
    "        raise ValueError(\"num_parents_selected cannot exceed population size\")\n",
    "        \n",
    "    parents_fit = [fitness_funct(ind) for ind in parents]\n",
    "    top_parent_indices = [idx for _, idx in sorted([(val, idx) for idx, val in enumerate(parents_fit)], reverse=not minimize)[:num_parents_selected]]\n",
    "    \n",
    "    offspring_fit = [fitness_funct(ind) for ind in offspring]\n",
    "    top_offspring_indices = [idx for _, idx in sorted([(val, idx) for idx, val in enumerate(offspring_fit)], reverse=not minimize)[:n - num_parents_selected]]\n",
    "    \n",
    "    new_pop = [parents[i] for i in top_parent_indices] + [offspring[i] for i in top_offspring_indices]\n",
    "        \n",
    "    return new_pop"
   ]
  },
  {
   "cell_type": "markdown",
   "id": "5f3cb972-605a-4dda-b98c-a2b6f3da9df8",
   "metadata": {},
   "source": [
    "### Tournament similar replacement"
   ]
  },
  {
   "cell_type": "code",
   "execution_count": 10,
   "id": "414faa76-67b7-4340-8850-6b6c0ff7f8fa",
   "metadata": {},
   "outputs": [],
   "source": [
    "def tournament_similar_replacement(parents, offspring, fitness_funct, minimize=False):\n",
    "    new_pop = []\n",
    "    offspring_used = []\n",
    "\n",
    "    for parent in parents:\n",
    "        closest_idx = None\n",
    "        closest_dist = np.inf\n",
    "\n",
    "        for i, child in enumerate(offspring):\n",
    "            if i in offspring_used:\n",
    "                continue\n",
    "            eucl_dist = np.linalg.norm(np.array(parent) - np.array(child))\n",
    "            if eucl_dist <= closest_dist:\n",
    "                closest_idx = i\n",
    "                closest_dist = eucl_dist\n",
    "        if closest_idx is not None:\n",
    "            offspring_used .append(closest_idx)\n",
    "            fitness_parent = fitness_funct(parent)\n",
    "            fitness_child = fitness_funct(offspring[closest_idx])\n",
    "\n",
    "            if (minimize and fitness_parent <= fitness_child) or (not minimize and fitness_parent >= fitness_child):\n",
    "                new_pop.append(parent)\n",
    "            else:\n",
    "                new_pop.append(offspring[closest_idx])\n",
    "            \n",
    "        else:\n",
    "            new_pop.append(parent)\n",
    "\n",
    "    return new_pop"
   ]
  },
  {
   "cell_type": "markdown",
   "id": "26305477-0d79-4992-9459-ecf0e3ea106f",
   "metadata": {},
   "source": [
    "# Problems"
   ]
  },
  {
   "cell_type": "markdown",
   "id": "f000c8b0-4906-4178-972a-0894d731fbe8",
   "metadata": {},
   "source": [
    "### Quadratic function (QF)"
   ]
  },
  {
   "cell_type": "markdown",
   "id": "26556daa-81b1-4565-b96c-818b71e9a75d",
   "metadata": {},
   "source": [
    "$$f(X) = \\sum _{i=1} ^{D} x_i ^2 \\text{ ,  con  } -10 <= x_i <= 10$$"
   ]
  },
  {
   "cell_type": "code",
   "execution_count": 11,
   "id": "d146a555-1aa2-4d87-b1c2-57f419e24c1c",
   "metadata": {},
   "outputs": [],
   "source": [
    "def f(state):\n",
    "    return sum(state**2) # retorna la suma de los cuadrados de los elementos del estado ingresado"
   ]
  },
  {
   "cell_type": "code",
   "execution_count": 12,
   "id": "d2a04de7-6561-474a-9580-c3059b3e8b10",
   "metadata": {},
   "outputs": [],
   "source": [
    "def mutation_QF(ind, mutation_rate=0.1):\n",
    "    mutant = ind.copy()\n",
    "    for i in range(len(mutant)):\n",
    "        if random.random() < mutation_rate:\n",
    "            mutant[i] += np.random.normal(0, 1)\n",
    "    return mutant"
   ]
  },
  {
   "cell_type": "code",
   "execution_count": 13,
   "id": "093ec279-ff2f-490f-b305-aedae2fd6957",
   "metadata": {},
   "outputs": [
    {
     "name": "stdout",
     "output_type": "stream",
     "text": [
      "Mejor inicial: [ 5.005  2.073 -5.766 -4.921 -7.672] -> 145.669935\n"
     ]
    }
   ],
   "source": [
    "D = 5 # Tamño del vector de entrada\n",
    "popsize = 5\n",
    "initial_pop_QF = [np.array([round(random.choice([-1, 1]) * random.random() * 10, 3) for _ in range(D)]) for _ in range(popsize)] # Se genera un vector aleatorio con valores en el rango [-10, 10]\n",
    "\n",
    "best = min(initial_pop_QF, key=f)\n",
    "print(\"Mejor inicial:\", best, \"->\", f(best))"
   ]
  },
  {
   "cell_type": "code",
   "execution_count": 14,
   "id": "25c51599-d591-41a6-8206-1736dea7b7ed",
   "metadata": {},
   "outputs": [
    {
     "name": "stdout",
     "output_type": "stream",
     "text": [
      "Mejor final: [-7.94790029  3.245401   -5.1665708   1.37        1.33899269] -> 104.06500194558427\n"
     ]
    }
   ],
   "source": [
    "parents = initial_pop_QF\n",
    "num_generations = 20\n",
    "size_offspring = 3\n",
    "mutation_rate = 0.2\n",
    "\n",
    "best_fitness_per_gen_QF = []\n",
    "best_fitness_per_gen_QF.append(f(best))\n",
    "for _ in range(num_generations):\n",
    "    # Selección\n",
    "    selection = tournament(parents, f, 2, size_offspring, minimize=True)\n",
    "    # Cruza y mutación\n",
    "    offspring = []\n",
    "    for i in range(0, size_offspring, 2):\n",
    "        p1 = selection[i % len(selection)]\n",
    "        p2 = selection[(i + 1) % len(selection)]\n",
    "        crossover = two_point_crossover(p1, p2)\n",
    "        for ind in crossover:\n",
    "            offspring.append(mutation_QF(ind, mutation_rate)) # mutación de los individuos\n",
    "    offspring = offspring[:size_offspring]  # Limitar a tamaño de población\n",
    "    # Reeplazo\n",
    "    parents = random_based_replacement(parents, offspring)\n",
    "    best_fitness = min([f(ind) for ind in parents])\n",
    "    best_fitness_per_gen_QF.append(best_fitness)\n",
    "\n",
    "# Mejor individuo final\n",
    "best = min(parents, key=f)\n",
    "print(\"Mejor final:\", best, \"->\", f(best))"
   ]
  },
  {
   "cell_type": "code",
   "execution_count": 15,
   "id": "f4cd4746-6bcc-4c71-9479-4704809ee502",
   "metadata": {},
   "outputs": [
    {
     "data": {
      "image/png": "[encoded data removed]",
      "text/plain": [
       "<Figure size 640x480 with 1 Axes>"
      ]
     },
     "metadata": {},
     "output_type": "display_data"
    }
   ],
   "source": [
    "plt.plot(best_fitness_per_gen_QF)\n",
    "plt.title(\"Best fitness evolution\")\n",
    "plt.xlabel(\"Generation\")\n",
    "plt.ylabel(\"Fitness\")\n",
    "plt.show()"
   ]
  },
  {
   "cell_type": "markdown",
   "id": "93096742-6895-460e-9344-b79f02630677",
   "metadata": {},
   "source": [
    "### Travel Salesman Problem (TSP)"
   ]
  },
  {
   "cell_type": "markdown",
   "id": "d57e5afc-4698-467a-85f0-53583c88cda0",
   "metadata": {},
   "source": [
    "El objetivo es minimizar la distancia total recorrida. De manera que se puede definir la función objetivo como:\n",
    "\n",
    "$$\n",
    "f(\\pi) = d(\\pi_n, \\pi_1) + \\sum_{i=1}^{n-1} d(\\pi_i, \\pi_{i+1}),\n",
    "$$\n",
    "\n",
    "donde $d(i, j)$ es la distancia entre la ciudad $i$ y la ciudad $j$. Así, el algoritmo acepta la mutación si $f(\\pi_{nuevo}) < f(\\pi _{actual})$."
   ]
  },
  {
   "cell_type": "code",
   "execution_count": 16,
   "id": "ebcad92d-441f-478d-9bda-b71ecb2577f5",
   "metadata": {},
   "outputs": [],
   "source": [
    "n = 5 # Número de ciudades\n",
    "popsize = 5 # Tamaño de la población"
   ]
  },
  {
   "cell_type": "code",
   "execution_count": 17,
   "id": "00ebc377-57b4-4e14-83be-3598a3997f8e",
   "metadata": {},
   "outputs": [],
   "source": [
    "distance_matrix = np.zeros([n, n])\n",
    "for i in range(n):\n",
    "    for j in range(i):\n",
    "        distance_matrix[i, j] = distance_matrix[j, i] = random.randint(1, 10)"
   ]
  },
  {
   "cell_type": "code",
   "execution_count": 18,
   "id": "1b3c87d7-eac7-43e2-9fbb-4c32cd8c62de",
   "metadata": {},
   "outputs": [],
   "source": [
    "def calculate_total_distance(tour, dist_matrix = distance_matrix):\n",
    "    total_dist = 0\n",
    "    for i in range(len(tour)-1):\n",
    "        total_dist += dist_matrix[tour[i]][tour[i + 1]]\n",
    "    total_dist += dist_matrix[tour[-1]][tour[0]]\n",
    "    return total_dist\n",
    "    \n",
    "def mutation_TSP(tour, mutation_rate=0.1):\n",
    "    new_tour = tour.copy()\n",
    "    if random.random() <= mutation_rate:\n",
    "        indx1, indx2 = random.sample(range(len(tour)), 2) # Seleciona dos indices aleatoriamente\n",
    "        new_tour[indx1], new_tour[indx2] = new_tour[indx2], new_tour[indx1] # Se intercambia el valor de los items con los indicies selecionados anteriormente\n",
    "    return new_tour"
   ]
  },
  {
   "cell_type": "code",
   "execution_count": 19,
   "id": "a91ecfe1-ecfd-4430-8730-0efa2f6e230b",
   "metadata": {},
   "outputs": [
    {
     "name": "stdout",
     "output_type": "stream",
     "text": [
      "Distancia entre caminos: [[0. 5. 3. 5. 6.]\n",
      " [5. 0. 8. 5. 6.]\n",
      " [3. 8. 0. 4. 6.]\n",
      " [5. 5. 4. 0. 2.]\n",
      " [6. 6. 6. 2. 0.]]\n",
      "Mejor inicial: [4, 0, 2, 3, 1] -> 24.0\n"
     ]
    }
   ],
   "source": [
    "# Inicialización de la población inicial (tours inicial aleatorio)\n",
    "initial_pop_TSP = [random.sample(range(n), n) for _ in range(popsize)]  # Generamos una poblacioón permutando las ciudades\n",
    "\n",
    "print(f'Distancia entre caminos: {distance_matrix}')\n",
    "# Mejor individuo inicial\n",
    "best = min(initial_pop_TSP, key=calculate_total_distance)\n",
    "print(\"Mejor inicial:\", best, \"->\", calculate_total_distance(best))"
   ]
  },
  {
   "cell_type": "code",
   "execution_count": 20,
   "id": "4209e690-3e5b-4ff7-b59c-b3f3cb2f99d9",
   "metadata": {},
   "outputs": [
    {
     "name": "stdout",
     "output_type": "stream",
     "text": [
      "Mejor final: [1, 1, 4, 3, 3] -> 13.0\n"
     ]
    }
   ],
   "source": [
    "parents = initial_pop_TSP\n",
    "num_generations = 20\n",
    "size_offspring = 3\n",
    "mutation_rate = 0.2\n",
    "\n",
    "best_fitness_per_gen_TSP = []\n",
    "best_fitness_per_gen_TSP.append(calculate_total_distance(best))\n",
    "for _ in range(num_generations):\n",
    "    # Selección\n",
    "    selection = RWS(parents, calculate_total_distance, popsize, minimize=True)\n",
    "    # Cruza y mutación\n",
    "    offspring = []\n",
    "    for i in range(0, size_offspring, 2):\n",
    "        p1 = selection[i % len(selection)]\n",
    "        p2 = selection[(i + 1) % len(selection)]\n",
    "        crossover = one_point_crossover(p1, p2)\n",
    "        for ind in crossover:\n",
    "            offspring.append(mutation_TSP(ind, mutation_rate)) # mutación de los individuos\n",
    "    offspring = offspring[:size_offspring]  # Limitar a tamaño de población\n",
    "    # Reemplazo\n",
    "    parents = elitism_replacement(parents, offspring, calculate_total_distance, popsize-1, minimize=True)\n",
    "    best_fitness = min([calculate_total_distance(ind) for ind in parents])\n",
    "    best_fitness_per_gen_TSP.append(best_fitness)\n",
    "\n",
    "# Mejor individuo final\n",
    "best = min(parents, key=calculate_total_distance)\n",
    "print(\"Mejor final:\", best, \"->\", calculate_total_distance(best))"
   ]
  },
  {
   "cell_type": "code",
   "execution_count": 21,
   "id": "502a55bb-8bc0-4edd-8843-b22da0475418",
   "metadata": {},
   "outputs": [
    {
     "data": {
      "image/png": "[encoded data removed]",
      "text/plain": [
       "<Figure size 640x480 with 1 Axes>"
      ]
     },
     "metadata": {},
     "output_type": "display_data"
    }
   ],
   "source": [
    "plt.plot(best_fitness_per_gen_TSP)\n",
    "plt.title(\"Best fitness evolution\")\n",
    "plt.xlabel(\"Generation\")\n",
    "plt.ylabel(\"Fitness\")\n",
    "plt.show()"
   ]
  },
  {
   "cell_type": "markdown",
   "id": "04be2729-835f-4d48-b321-ae319bd5619a",
   "metadata": {},
   "source": [
    "### Knapsack problem (KP)"
   ]
  },
  {
   "cell_type": "markdown",
   "id": "d960f2cd-fa0b-4c28-b118-2ede3f97bd36",
   "metadata": {},
   "source": [
    "Función heurística:\n",
    "El objetivo es maximizar el valor total de los artículos seleccionados, sujeto a la restricción de peso.\n",
    "\n",
    "$$\n",
    "h(x) = \\left\\{\\begin{matrix}\n",
    " -1,\\;\\;\\; \\text{if} \\;\\;\\; \\sum (w_i \\cdot x_i) > \\text{Peso máximo}\\\\\n",
    "  \\sum (v_i \\cdot x_i), \\;\\;\\; \\text{en caso contrario}\n",
    "\\end{matrix}\\right.\n",
    "$$"
   ]
  },
  {
   "cell_type": "code",
   "execution_count": 22,
   "id": "b14f22b3-592d-42b9-ad56-e4c62a1d7005",
   "metadata": {},
   "outputs": [],
   "source": [
    "n_items = 5 # número de items para elegir\n",
    "max_weight = 25 # peso máximo permitido\n",
    "popsize = 5 # Tamaño de la población\n",
    "# Define los pesos y valores de los objetos\n",
    "value_list = np.array([random.randint(1, 50) for _ in range(n_items)])\n",
    "weight_list = np.array([random.randint(1, 20) for _ in range(n_items)])"
   ]
  },
  {
   "cell_type": "code",
   "execution_count": 23,
   "id": "e637c496-4c51-48f7-b5f2-58f99e54beb7",
   "metadata": {},
   "outputs": [],
   "source": [
    "# Define la función heurística\n",
    "def h(state, values = value_list, weights = weight_list, maxweight = max_weight):\n",
    "    value = 0 \n",
    "    if state @ weights > maxweight:\n",
    "        value = -1 # Si el valor total de los objetos se pasa del máximo se retorna infinito\n",
    "    else:\n",
    "        value = state @ values # En caso contrario se retorna el valor total de los objetos\n",
    "    return value"
   ]
  },
  {
   "cell_type": "code",
   "execution_count": 24,
   "id": "d9b5517f-f7e3-4420-ae9b-e17f95ef9da9",
   "metadata": {},
   "outputs": [
    {
     "name": "stdout",
     "output_type": "stream",
     "text": [
      "Mejor inicial: [0 1 0 1 0] -> 63\n"
     ]
    }
   ],
   "source": [
    "#Define la población de estados iniciales aletoriamente\n",
    "initial_pop_KP = [np.array([random.randint(0, 1) for _ in range(n_items)]) for _ in range(popsize)]\n",
    "\n",
    "best = max(initial_pop_KP, key=h)\n",
    "print(\"Mejor inicial:\", best, \"->\", h(best))"
   ]
  },
  {
   "cell_type": "code",
   "execution_count": 25,
   "id": "67e9270f-0870-4641-9f9d-8c37857d1f8f",
   "metadata": {},
   "outputs": [],
   "source": [
    "# Generar vecinos\n",
    "def mutation_KP(state, mutation_rate):\n",
    "    newstate = state.copy()\n",
    "    if random.random() <= mutation_rate:\n",
    "        idx_to_mutate = random.randint(0, n_items - 1)\n",
    "        newstate[idx_to_mutate] = 1 - newstate[idx_to_mutate]  # Cambia el valor (si 0 -> 1 y si 1 -> 0)\n",
    "    return newstate"
   ]
  },
  {
   "cell_type": "code",
   "execution_count": 26,
   "id": "18916fd2-a499-465e-ae3a-2f5656293bf2",
   "metadata": {},
   "outputs": [
    {
     "name": "stdout",
     "output_type": "stream",
     "text": [
      "Mejor final: [0 1 1 1 0] -> 113\n"
     ]
    }
   ],
   "source": [
    "parents = initial_pop_KP\n",
    "num_generations = 20\n",
    "size_offspring = 3\n",
    "mutation_rate = 0.2\n",
    "\n",
    "best_fitness_per_gen_KP = []\n",
    "best_fitness_per_gen_KP.append(h(best))\n",
    "for _ in range(num_generations):\n",
    "    # Selección\n",
    "    selection = SUS(parents, h, popsize, minimize=False)\n",
    "    # Cruza y mutación\n",
    "    offspring = []\n",
    "    for i in range(0, size_offspring, 2):\n",
    "        p1 = selection[i % len(selection)]\n",
    "        p2 = selection[(i + 1) % len(selection)]\n",
    "        crossover = uniform_crossover(p1, p2)\n",
    "        for ind in crossover:\n",
    "            offspring.append(mutation_KP(ind, mutation_rate)) # mutación de los individuos\n",
    "    offspring = offspring[:size_offspring]  # Limitar a tamaño de población\n",
    "    # Reemplazo\n",
    "    parents = tournament_similar_replacement(parents, offspring, h, minimize=False)\n",
    "    best_fitness = max([h(ind) for ind in parents])\n",
    "    best_fitness_per_gen_KP.append(best_fitness)\n",
    "\n",
    "# Mejor individuo final\n",
    "best = max(parents, key=h)\n",
    "print(\"Mejor final:\", best, \"->\", h(best))"
   ]
  },
  {
   "cell_type": "code",
   "execution_count": 27,
   "id": "0775e60c-a281-4d8a-ab4b-896a6513b6c6",
   "metadata": {},
   "outputs": [
    {
     "data": {
      "image/png": "[encoded data removed]",
      "text/plain": [
       "<Figure size 640x480 with 1 Axes>"
      ]
     },
     "metadata": {},
     "output_type": "display_data"
    }
   ],
   "source": [
    "plt.plot(best_fitness_per_gen_KP)\n",
    "plt.title(\"Best fitness evolution\")\n",
    "plt.xlabel(\"Generation\")\n",
    "plt.ylabel(\"Fitness\")\n",
    "plt.show()"
   ]
  }
 ],
 "metadata": {
  "kernelspec": {
   "display_name": "Python 3 (ipykernel)",
   "language": "python",
   "name": "python3"
  },
  "language_info": {
   "codemirror_mode": {
    "name": "ipython",
    "version": 3
   },
   "file_extension": ".py",
   "mimetype": "text/x-python",
   "name": "python",
   "nbconvert_exporter": "python",
   "pygments_lexer": "ipython3",
   "version": "3.13.2"
  }
 },
 "nbformat": 4,
 "nbformat_minor": 5
}
