{
 "cells": [
  {
   "cell_type": "code",
   "execution_count": 18,
   "id": "b5204f1c",
   "metadata": {},
   "outputs": [],
   "source": [
    "import numpy as np\n",
    "import random"
   ]
  },
  {
   "cell_type": "code",
   "execution_count": 19,
   "id": "f0667f5c",
   "metadata": {},
   "outputs": [],
   "source": [
    "def SA(initial_state, cost_funct, new_state_funct, L_k = 1, c_k = 100, k = 0.95, min_temp = 0.1, num_iterations = 100, max_or_min = 'max'):\n",
    "    current_state = initial_state\n",
    "    current_eval = cost_funct(current_state)\n",
    "    \n",
    "    if max_or_min not in ['max', 'min']:\n",
    "        raise ValueError(\"Parámetro 'max_or_min' debe ser 'max' o 'min'\")\n",
    "    \n",
    "    else:\n",
    "        for _ in range(num_iterations):\n",
    "            for _ in range(L_k):\n",
    "                new_state = new_state_funct(current_state)\n",
    "                new_eval = cost_funct(new_state)\n",
    "                diff_eval = new_eval - current_eval\n",
    "\n",
    "                if max_or_min == 'max':\n",
    "                    if diff_eval >= 0:\n",
    "                        current_state = new_state\n",
    "                        current_eval = new_eval\n",
    "                    else:\n",
    "                        if np.exp(diff_eval/c_k) > random.random():\n",
    "                            current_state = new_state\n",
    "                            current_eval = new_eval\n",
    "\n",
    "                elif max_or_min == 'min':\n",
    "                    if diff_eval <= 0:\n",
    "                        current_state = new_state\n",
    "                        current_eval = new_eval\n",
    "                    else:\n",
    "                        if np.exp(-diff_eval/c_k) > random.random():\n",
    "                            current_state = new_state\n",
    "                            current_eval = new_eval\n",
    "\n",
    "            c_k = max(c_k * k, min_temp)\n",
    "    return current_state, current_eval"
   ]
  },
  {
   "cell_type": "markdown",
   "id": "fe049fe1",
   "metadata": {},
   "source": [
    "### Knapsack problem"
   ]
  },
  {
   "cell_type": "markdown",
   "id": "d7316c40",
   "metadata": {},
   "source": [
    "Función heurística:\n",
    "El objetivo es maximizar el valor total de los artículos seleccionados, sujeto a la restricción de peso.\n",
    "\n",
    "$$\n",
    "h(x) = \\left\\{\\begin{matrix}\n",
    " -1,\\;\\;\\; \\text{if} \\;\\;\\; \\sum (w_i \\cdot x_i) > \\text{Peso máximo}\\\\\n",
    "  \\sum (v_i \\cdot x_i), \\;\\;\\; \\text{en caso contrario}\n",
    "\\end{matrix}\\right.\n",
    "$$"
   ]
  },
  {
   "cell_type": "code",
   "execution_count": 20,
   "id": "858cab2f",
   "metadata": {},
   "outputs": [],
   "source": [
    "n_items = 5 # número de items para elegir\n",
    "max_weight = 25 # peso máximo permitido\n",
    "# Define los pesos y valores de los objetos\n",
    "value_list = np.array([random.randint(1, 50) for _ in range(n_items)])\n",
    "weight_list = np.array([random.randint(1, 20) for _ in range(n_items)])"
   ]
  },
  {
   "cell_type": "code",
   "execution_count": 21,
   "id": "50222443",
   "metadata": {},
   "outputs": [],
   "source": [
    "#Define el estado inicial aletoriamente\n",
    "initial_state_KP = np.array([random.randint(0, 1) for _ in range(n_items)])"
   ]
  },
  {
   "cell_type": "code",
   "execution_count": 22,
   "id": "62c7b67e",
   "metadata": {},
   "outputs": [],
   "source": [
    "# Define la función heurística\n",
    "def h(state, values = value_list, weights = weight_list, maxweight = max_weight):\n",
    "    value = 0 \n",
    "    if state @ weights > maxweight:\n",
    "        value = -1 # Si el valor total de los objetos se pasa del máximo se retorna -1\n",
    "    else:\n",
    "        value = state @ values # En caso contrario se retorna el valor total de los objetos\n",
    "    return value"
   ]
  },
  {
   "cell_type": "code",
   "execution_count": 23,
   "id": "14c3baae",
   "metadata": {},
   "outputs": [],
   "source": [
    "# Generar vecinos\n",
    "def neighbors(state):\n",
    "    newstate = state.copy()\n",
    "    idx_to_mutate = random.randint(0, n_items - 1)\n",
    "    newstate[idx_to_mutate] = 1 - newstate[idx_to_mutate]  # Cambia el valor (si 0 -> 1 y si 1 -> 0)\n",
    "    return newstate"
   ]
  },
  {
   "cell_type": "code",
   "execution_count": 24,
   "id": "741c43ea",
   "metadata": {},
   "outputs": [
    {
     "name": "stdout",
     "output_type": "stream",
     "text": [
      "Estado inicial: [1 0 1 1 0]\n",
      "Valores de los items: [47 40 19 49  5]\n",
      "Pesos de los items: [ 1  4  6  8 17]\n",
      "Peso máximo permitido: 25\n",
      "Valor del estado incial: 115\n"
     ]
    }
   ],
   "source": [
    "print(f'Estado inicial: {initial_state_KP}')\n",
    "print(f'Valores de los items: {value_list}')\n",
    "print(f'Pesos de los items: {weight_list}')\n",
    "print(f'Peso máximo permitido: {max_weight}')\n",
    "print(f'Valor del estado incial: {h(initial_state_KP)}')"
   ]
  },
  {
   "cell_type": "code",
   "execution_count": 25,
   "id": "5d3ab856",
   "metadata": {},
   "outputs": [
    {
     "name": "stdout",
     "output_type": "stream",
     "text": [
      "Estado final: [1 1 1 1 0]\n",
      "Valor del estado final: 155\n",
      "Peso total de los objetos del estado final: 19\n"
     ]
    }
   ],
   "source": [
    "KP_result = SA(initial_state_KP, h, neighbors, L_k = 1, c_k = 100, k = 0.9, min_temp = 0.1, num_iterations = 100, max_or_min = 'max')\n",
    "print(f'Estado final: {KP_result[0]}')\n",
    "print(f'Valor del estado final: {KP_result[1]}')\n",
    "print(f'Peso total de los objetos del estado final: {KP_result[0] @ weight_list}')"
   ]
  },
  {
   "cell_type": "markdown",
   "id": "1fb416ba",
   "metadata": {},
   "source": [
    "### Travel Salesman Problem (TSP)"
   ]
  },
  {
   "cell_type": "markdown",
   "id": "25461eec",
   "metadata": {},
   "source": [
    "El objetivo es minimizar la distancia total recorrida. De manera que se puede definir la función objetivo como:\n",
    "\n",
    "$$\n",
    "f(\\pi) = d(\\pi_n, \\pi_1) + \\sum_{i=1}^{n-1} d(\\pi_i, \\pi_{i+1}),\n",
    "$$\n",
    "\n",
    "donde $d(i, j)$ es la distancia entre la ciudad $i$ y la ciudad $j$. Así, el algoritmo acepta la mutación si $f(\\pi_{nuevo}) < f(\\pi _{actual})$."
   ]
  },
  {
   "cell_type": "code",
   "execution_count": 26,
   "id": "ca6b171f",
   "metadata": {},
   "outputs": [],
   "source": [
    "n = 5 # Número de ciudades\n",
    "# Inicialización del estado (tour inicial aleatorio)\n",
    "initial_state_TSP = random.sample(range(n), n)  # Generamos una permutación aleatoria de ciudades"
   ]
  },
  {
   "cell_type": "code",
   "execution_count": 27,
   "id": "16293b7c",
   "metadata": {},
   "outputs": [],
   "source": [
    "distance_matrix = np.zeros([n, n])\n",
    "for i in range(n):\n",
    "    for j in range(i):\n",
    "        distance_matrix[i, j] = distance_matrix[j, i] = random.randint(1, 10)"
   ]
  },
  {
   "cell_type": "code",
   "execution_count": 28,
   "id": "75648997",
   "metadata": {},
   "outputs": [],
   "source": [
    "def calculate_total_distance(tour, dist_matrix = distance_matrix):\n",
    "    total_dist = 0\n",
    "    for i in range(len(tour)-1):\n",
    "        total_dist += dist_matrix[tour[i]][tour[i + 1]]\n",
    "    total_dist += dist_matrix[tour[-1]][tour[0]]\n",
    "    return total_dist\n",
    "    \n",
    "def generate_random_instance(tour):\n",
    "    new_tour = tour.copy()\n",
    "    indx1, indx2 = random.sample(range(len(tour)), 2) # Seleciona dos indices aleatoriamente\n",
    "    new_tour[indx1], new_tour[indx2] = new_tour[indx2], new_tour[indx1] # Se intercambia el valor de los items con los indicies selecionados anteriormente\n",
    "    return new_tour"
   ]
  },
  {
   "cell_type": "code",
   "execution_count": 29,
   "id": "69a39d2b",
   "metadata": {},
   "outputs": [
    {
     "name": "stdout",
     "output_type": "stream",
     "text": [
      "Estado inicial: [1, 3, 0, 2, 4]\n",
      "Distancia entre caminos: [[ 0.  9.  3.  1.  2.]\n",
      " [ 9.  0.  3. 10.  4.]\n",
      " [ 3.  3.  0.  9.  5.]\n",
      " [ 1. 10.  9.  0.  6.]\n",
      " [ 2.  4.  5.  6.  0.]]\n",
      "Valor del estado inicial: 23.0\n"
     ]
    }
   ],
   "source": [
    "print(f'Estado inicial: {initial_state_TSP}')\n",
    "print(f'Distancia entre caminos: {distance_matrix}')\n",
    "print(f'Valor del estado inicial: {calculate_total_distance(initial_state_TSP)}')"
   ]
  },
  {
   "cell_type": "code",
   "execution_count": 30,
   "id": "3016b123",
   "metadata": {},
   "outputs": [
    {
     "name": "stdout",
     "output_type": "stream",
     "text": [
      "Estado final: [1, 4, 3, 0, 2]\n",
      "Valor del estado final: 17.0\n"
     ]
    }
   ],
   "source": [
    "TSP_result = SA(initial_state_TSP, calculate_total_distance, generate_random_instance, L_k = 1, c_k = 100, k = 0.95, min_temp = 0.1, num_iterations = 100, max_or_min = 'min')\n",
    "print(f'Estado final: {TSP_result[0]}')\n",
    "print(f'Valor del estado final: {TSP_result[1]}')"
   ]
  },
  {
   "cell_type": "markdown",
   "id": "d9950096",
   "metadata": {},
   "source": [
    "### Función cuadrática (minimizar)"
   ]
  },
  {
   "cell_type": "markdown",
   "id": "42ab3d8c",
   "metadata": {},
   "source": [
    "$$f(X) = \\sum _{i=1} ^{D} x_i ^2 \\text{ ,  con  } -10 <= x_i <= 10$$"
   ]
  },
  {
   "cell_type": "code",
   "execution_count": 31,
   "id": "350728ec",
   "metadata": {},
   "outputs": [],
   "source": [
    "D = 5 # Tamño del vector de entrada\n",
    "initial_state_QF = np.array([round(random.choice([-1, 1]) * random.random() * 10, 3) for _ in range(D)]) # Se genera un vector aleatorio con valores en el rango [-10, 10]"
   ]
  },
  {
   "cell_type": "code",
   "execution_count": 32,
   "id": "2797b967",
   "metadata": {},
   "outputs": [],
   "source": [
    "def f(state):\n",
    "    return sum(state**2) # retorna la suma de los cuadrados de los elementos del estado ingresado\n",
    "    \n",
    "def random_new_state(current_state, step_size = 0.1):\n",
    "    indx = random.randint(0, D - 1)\n",
    "    new_state = current_state.copy()\n",
    "    new_state[indx] = random.uniform(-step_size, step_size) #avanza o retrocede un paso dado por step_size de manera aletoria\n",
    "    return new_state"
   ]
  },
  {
   "cell_type": "code",
   "execution_count": 33,
   "id": "33adaee7",
   "metadata": {},
   "outputs": [
    {
     "name": "stdout",
     "output_type": "stream",
     "text": [
      "Estado inicial: [-3.988 -7.056  8.731 -1.937  4.564]\n",
      "Valor del estado incial: 166.50370600000002\n"
     ]
    }
   ],
   "source": [
    "print(f'Estado inicial: {initial_state_QF}')\n",
    "print(f'Valor del estado incial: {f(initial_state_QF)}')"
   ]
  },
  {
   "cell_type": "code",
   "execution_count": 34,
   "id": "89456079",
   "metadata": {},
   "outputs": [
    {
     "name": "stdout",
     "output_type": "stream",
     "text": [
      "Estado final: [0.04173621 0.07110204 0.06738724 0.07306602 0.08269206]\n",
      "Valor del estado final: 0.02351507179434207\n"
     ]
    }
   ],
   "source": [
    "QF_result = SA(initial_state_QF, f, random_new_state, L_k = D, c_k = 100, k = 0.95, min_temp = 0.1, num_iterations = 100, max_or_min = 'min')\n",
    "print(f'Estado final: {QF_result[0]}')\n",
    "print(f'Valor del estado final: {QF_result[1]}')"
   ]
  }
 ],
 "metadata": {
  "kernelspec": {
   "display_name": "Python 3",
   "language": "python",
   "name": "python3"
  },
  "language_info": {
   "codemirror_mode": {
    "name": "ipython",
    "version": 3
   },
   "file_extension": ".py",
   "mimetype": "text/x-python",
   "name": "python",
   "nbconvert_exporter": "python",
   "pygments_lexer": "ipython3",
   "version": "3.8.8"
  }
 },
 "nbformat": 4,
 "nbformat_minor": 5
}
