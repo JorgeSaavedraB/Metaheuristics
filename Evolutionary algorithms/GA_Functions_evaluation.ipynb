{
 "cells": [
  {
   "cell_type": "markdown",
   "id": "d672b066-1000-4a32-a63b-1df1c479bd17",
   "metadata": {},
   "source": [
    "# Generational models (size offspring = popsize)"
   ]
  },
  {
   "cell_type": "code",
   "execution_count": 1,
   "id": "3253e9b1-2b89-451c-a476-5733f783d24c",
   "metadata": {},
   "outputs": [],
   "source": [
    "import numpy as np"
   ]
  },
  {
   "cell_type": "code",
   "execution_count": 2,
   "id": "086d6845-87d0-42c5-990f-b6f78b0caa2f",
   "metadata": {},
   "outputs": [],
   "source": [
    "def Models_evaluation(Models: list):\n",
    "    Mod_eval = {model: {'results':[], 'times':[]} for model in Models}\n",
    "    best_mean = np.inf\n",
    "    best_model = ''\n",
    "    for model in Models:\n",
    "        results = np.load(model + '.npy')\n",
    "        # Best\n",
    "        eval_res = results[0]\n",
    "        time_res = results[1]\n",
    "        best_results = eval_res.min(0)\n",
    "        best_times = time_res.min(0)\n",
    "        Mod_eval[model]['results'].append(np.append(best_results, best_results.mean()))\n",
    "        Mod_eval[model]['times'].append(np.append(best_times, best_times.mean()))\n",
    "        # Worst\n",
    "        worst_results = eval_res.max(0)\n",
    "        worst_times = time_res.max(0)\n",
    "        Mod_eval[model]['results'].append(np.append(worst_results, worst_results.mean()))\n",
    "        Mod_eval[model]['times'].append(np.append(worst_times, worst_times.mean()))\n",
    "        # Mean\n",
    "        mean_results = eval_res.mean(0)\n",
    "        mean_times = time_res.mean(0)\n",
    "        Mod_eval[model]['results'].append(np.append(mean_results, mean_results.mean()))\n",
    "        Mod_eval[model]['times'].append(np.append(mean_times, mean_times.mean()))\n",
    "        if mean_results.mean() <= best_mean:\n",
    "            best_model = model\n",
    "        # Median\n",
    "        median_results = np.median(eval_res, 0)\n",
    "        median_times = np.median(time_res, 0)\n",
    "        Mod_eval[model]['results'].append(np.append(median_results, median_results.mean()))\n",
    "        Mod_eval[model]['times'].append(np.append(median_times, median_times.mean()))\n",
    "        # Standard deviation\n",
    "        std_results = np.std(eval_res, 0)\n",
    "        std_times = np.std(time_res, 0)\n",
    "        Mod_eval[model]['results'].append(np.append(std_results, std_results.mean()))\n",
    "        Mod_eval[model]['times'].append(np.append(std_times, std_times.mean()))\n",
    "        # Matrix transpose\n",
    "        Mod_eval[model]['results'] = np.array(Mod_eval[model]['results']).T\n",
    "        Mod_eval[model]['times'] = np.array(Mod_eval[model]['times']).T\n",
    "    return Mod_eval, best_model"
   ]
  },
  {
   "cell_type": "code",
   "execution_count": 3,
   "id": "2a9b0e19-34b1-4303-9e78-dd83818cc9a0",
   "metadata": {},
   "outputs": [],
   "source": [
    "Generational_models = ['EA1_G_10', 'EA2_G_10', 'EA3_G_10']"
   ]
  },
  {
   "cell_type": "code",
   "execution_count": 4,
   "id": "84c1658c-f34e-4e97-80e2-7ac5ced47ac6",
   "metadata": {},
   "outputs": [
    {
     "name": "stdout",
     "output_type": "stream",
     "text": [
      "EA3_G_10\n"
     ]
    }
   ],
   "source": [
    "Mod_eval_G, best_model_G = Models_evaluation(Generational_models)\n",
    "print(best_model_G)"
   ]
  },
  {
   "cell_type": "code",
   "execution_count": 5,
   "id": "8058d443-9de8-4dac-831f-b569e08e5841",
   "metadata": {},
   "outputs": [
    {
     "name": "stdout",
     "output_type": "stream",
     "text": [
      "[[4.22935094e+09 4.62150825e+10 1.99338652e+10 1.95152221e+10\n",
      "  1.12064381e+10]\n",
      " [4.66263372e+03 2.70073750e+04 1.60995305e+04 1.53810179e+04\n",
      "  5.74891261e+03]\n",
      " [3.49919349e+01 3.14146678e+02 1.39895073e+02 1.40977200e+02\n",
      "  5.99933847e+01]\n",
      " [9.40053013e+00 3.41687243e+01 1.95626262e+01 1.87608837e+01\n",
      "  6.33559300e+00]\n",
      " [2.00002343e+00 3.14752393e+00 2.68289748e+00 2.72293662e+00\n",
      "  3.11929011e-01]\n",
      " [4.10481417e+01 2.05514036e+02 9.42924472e+01 8.59219304e+01\n",
      "  3.81820641e+01]\n",
      " [7.50725340e+00 3.43671326e+01 2.37605791e+01 2.57746566e+01\n",
      "  7.57346692e+00]\n",
      " [5.54645381e+01 6.61158755e+02 3.07227870e+02 2.52202814e+02\n",
      "  1.70545429e+02]\n",
      " [1.44895437e+02 1.19237336e+03 5.64903190e+02 5.91226686e+02\n",
      "  2.88352997e+02]\n",
      " [1.54113966e+06 7.45548349e+07 2.54893697e+07 1.41384736e+07\n",
      "  2.24752028e+07]\n",
      " [4.23089704e+08 4.62896668e+09 1.99593718e+09 1.95293771e+09\n",
      "  1.12289196e+09]]\n"
     ]
    }
   ],
   "source": [
    "print(Mod_eval_G[best_model_G]['results'])"
   ]
  },
  {
   "cell_type": "code",
   "execution_count": 6,
   "id": "56c99396-ea3b-4d69-9191-4bf83bdbb9ad",
   "metadata": {},
   "outputs": [
    {
     "name": "stdout",
     "output_type": "stream",
     "text": [
      "[[0.1882     0.3252     0.24119    0.23975    0.03470119]\n",
      " [0.2227     0.3279     0.27398    0.25825    0.03684149]\n",
      " [0.207      0.3212     0.253215   0.24675    0.03122913]\n",
      " [0.203      0.3126     0.25443    0.24945    0.03481381]\n",
      " [0.2307     0.3571     0.26839    0.2565     0.03336506]\n",
      " [0.2646     0.372      0.308865   0.3092     0.03393201]\n",
      " [0.2226     0.4135     0.284365   0.2666     0.05524218]\n",
      " [0.2328     0.3411     0.28676    0.2852     0.03798898]\n",
      " [0.2393     0.3717     0.292755   0.27265    0.04538352]\n",
      " [0.2119     0.3426     0.262065   0.2554     0.03749051]\n",
      " [0.22228    0.34849    0.2726015  0.263975   0.03809879]]\n"
     ]
    }
   ],
   "source": [
    "print(Mod_eval_G[best_model_G]['times'])"
   ]
  },
  {
   "cell_type": "code",
   "execution_count": 7,
   "id": "477ce550-123b-4cfb-88a4-d317fb3335a5",
   "metadata": {},
   "outputs": [
    {
     "name": "stdout",
     "output_type": "stream",
     "text": [
      "EA3_G_30\n"
     ]
    }
   ],
   "source": [
    "Generational_models = ['EA1_G_30', 'EA2_G_30', 'EA3_G_30']\n",
    "Mod_eval_G, best_model_G = Models_evaluation(Generational_models)\n",
    "print(best_model_G)"
   ]
  },
  {
   "cell_type": "code",
   "execution_count": 8,
   "id": "3e58a84b-bf5d-4e16-bb66-75a6989f9dfc",
   "metadata": {},
   "outputs": [
    {
     "name": "stdout",
     "output_type": "stream",
     "text": [
      "[[1.36456604e+10 9.94358924e+10 4.60630626e+10 4.11368433e+10\n",
      "  2.00415097e+10]\n",
      " [5.17756158e+04 9.57879789e+04 7.24247977e+04 7.08858508e+04\n",
      "  1.14118581e+04]\n",
      " [2.81442841e+02 1.39636322e+03 5.54300999e+02 5.24222064e+02\n",
      "  2.24409909e+02]\n",
      " [4.34450092e+01 1.07330432e+02 7.12195201e+01 6.98655323e+01\n",
      "  1.68152582e+01]\n",
      " [9.68849557e+00 1.18674632e+01 1.05393919e+01 1.05837349e+01\n",
      "  4.55147952e-01]\n",
      " [2.27136515e+02 7.86445490e+02 4.88304169e+02 5.07375327e+02\n",
      "  1.27894953e+02]\n",
      " [4.60658668e+01 8.70111510e+01 7.05813711e+01 7.31332542e+01\n",
      "  1.21733859e+01]\n",
      " [7.18104855e+02 2.00175380e+03 1.18039058e+03 1.14693281e+03\n",
      "  3.40018535e+02]\n",
      " [1.39526692e+03 3.18002612e+03 2.08895861e+03 2.00249456e+03\n",
      "  4.97493654e+02]\n",
      " [6.68793838e+06 1.29407612e+08 4.05949422e+07 3.20493936e+07\n",
      "  2.87936741e+07]\n",
      " [1.36524029e+09 9.95654034e+09 4.61037345e+09 4.11689679e+09\n",
      "  2.00703160e+09]]\n"
     ]
    }
   ],
   "source": [
    "print(Mod_eval_G[best_model_G]['results'])"
   ]
  },
  {
   "cell_type": "code",
   "execution_count": 9,
   "id": "cc2fb941-aeaa-49ba-801a-4d68fe2471b6",
   "metadata": {},
   "outputs": [
    {
     "name": "stdout",
     "output_type": "stream",
     "text": [
      "[[0.7201     1.0071     0.845835   0.8184     0.08630778]\n",
      " [0.7843     1.2623     0.93769    0.92225    0.10826582]\n",
      " [0.7408     1.3291     0.89173    0.89275    0.12185241]\n",
      " [0.7573     1.0697     0.86098    0.8372     0.07700106]\n",
      " [0.7911     1.0575     0.903045   0.8833     0.07931416]\n",
      " [0.8857     1.2981     1.08564    1.06425    0.12126368]\n",
      " [0.8212     1.1433     0.93968    0.92985    0.08473706]\n",
      " [0.813      1.3665     0.995675   0.96385    0.12559614]\n",
      " [0.8402     2.2565     1.071355   0.9966     0.29476542]\n",
      " [0.7564     1.5        0.92937    0.914      0.15911591]\n",
      " [0.79101    1.32901    0.9461     0.922245   0.12582194]]\n"
     ]
    }
   ],
   "source": [
    "print(Mod_eval_G[best_model_G]['times'])"
   ]
  },
  {
   "cell_type": "markdown",
   "id": "3c03d339-34d3-4bc2-afea-0949b8088e4d",
   "metadata": {},
   "source": [
    "# Steady-State models (size offspring < popsize)"
   ]
  },
  {
   "cell_type": "code",
   "execution_count": 10,
   "id": "e80fb97a-64c4-4dd9-b49b-65952ba8f028",
   "metadata": {},
   "outputs": [],
   "source": [
    "Steady_state_models = ['EA1_SS_10', 'EA2_SS_10', 'EA3_SS_10']"
   ]
  },
  {
   "cell_type": "code",
   "execution_count": 11,
   "id": "43efdfa1-87f0-44a6-adac-dc9f634cd6a5",
   "metadata": {},
   "outputs": [
    {
     "name": "stdout",
     "output_type": "stream",
     "text": [
      "EA3_SS_10\n"
     ]
    }
   ],
   "source": [
    "Mod_eval_SS, best_model_SS = Models_evaluation(Steady_state_models)\n",
    "print(best_model_SS)"
   ]
  },
  {
   "cell_type": "code",
   "execution_count": 12,
   "id": "bce44381-7e87-494b-a63c-c3a5d23dd761",
   "metadata": {},
   "outputs": [
    {
     "name": "stdout",
     "output_type": "stream",
     "text": [
      "[[2.42497378e+09 3.44198375e+10 1.28137851e+10 1.06833687e+10\n",
      "  9.32861663e+09]\n",
      " [6.80630294e+03 2.56117084e+04 1.71181054e+04 1.76018334e+04\n",
      "  4.53644318e+03]\n",
      " [3.26750720e+01 1.62817285e+02 8.86222625e+01 8.67776796e+01\n",
      "  3.54108684e+01]\n",
      " [1.13840062e+01 3.47969751e+01 1.88856672e+01 1.95844517e+01\n",
      "  5.78555572e+00]\n",
      " [1.51100334e+00 3.40457298e+00 2.43181921e+00 2.38290299e+00\n",
      "  5.56971598e-01]\n",
      " [6.23631525e+01 1.42777970e+02 9.11622905e+01 8.93305989e+01\n",
      "  1.84589522e+01]\n",
      " [1.11353271e+01 4.11673751e+01 2.18325734e+01 2.30224461e+01\n",
      "  7.52333367e+00]\n",
      " [5.57021224e+01 3.99494322e+02 2.59674019e+02 2.71777989e+02\n",
      "  9.44115429e+01]\n",
      " [3.74911833e+01 8.50291133e+02 3.85887603e+02 3.20772502e+02\n",
      "  2.63552107e+02]\n",
      " [1.59165885e+06 2.39394720e+07 7.11504282e+06 4.85865337e+06\n",
      "  5.71005381e+06]\n",
      " [2.42657245e+08 3.44438042e+09 1.28209181e+09 1.06882458e+09\n",
      "  9.33433164e+08]]\n"
     ]
    }
   ],
   "source": [
    "print(Mod_eval_SS[best_model_SS]['results'])"
   ]
  },
  {
   "cell_type": "code",
   "execution_count": 13,
   "id": "b69c9e0b-20d2-40f6-b515-bee2880efad8",
   "metadata": {},
   "outputs": [
    {
     "name": "stdout",
     "output_type": "stream",
     "text": [
      "[[0.1504     0.2507     0.183215   0.17665    0.02629405]\n",
      " [0.1826     0.327      0.21208    0.2045     0.03384222]\n",
      " [0.1668     0.2947     0.19126    0.17735    0.03402426]\n",
      " [0.1579     0.2407     0.179895   0.17745    0.01864973]\n",
      " [0.1758     0.2446     0.195565   0.19005    0.01790964]\n",
      " [0.2239     0.3445     0.25522    0.2443     0.02812946]\n",
      " [0.1837     0.2944     0.210345   0.20025    0.02553753]\n",
      " [0.1867     0.2932     0.215205   0.20645    0.02399784]\n",
      " [0.2029     0.3467     0.226885   0.21525    0.03156652]\n",
      " [0.1676     0.2721     0.201125   0.1992     0.0243031 ]\n",
      " [0.17983    0.29086    0.2070795  0.199145   0.02642544]]\n"
     ]
    }
   ],
   "source": [
    "print(Mod_eval_SS[best_model_SS]['times'])"
   ]
  },
  {
   "cell_type": "code",
   "execution_count": 14,
   "id": "89b918ce-e281-4632-8223-03e2563fac69",
   "metadata": {},
   "outputs": [],
   "source": [
    "Steady_state_models = ['EA1_SS_30', 'EA2_SS_30', 'EA3_SS_30']"
   ]
  },
  {
   "cell_type": "code",
   "execution_count": 15,
   "id": "9515af8a-398f-4bd5-80cc-5d09d7e8332d",
   "metadata": {},
   "outputs": [
    {
     "name": "stdout",
     "output_type": "stream",
     "text": [
      "EA3_SS_30\n"
     ]
    }
   ],
   "source": [
    "Mod_eval_SS, best_model_SS = Models_evaluation(Steady_state_models)\n",
    "print(best_model_SS)"
   ]
  },
  {
   "cell_type": "code",
   "execution_count": 16,
   "id": "79bf47f9-014a-48c3-9463-7b0c9462a834",
   "metadata": {},
   "outputs": [
    {
     "name": "stdout",
     "output_type": "stream",
     "text": [
      "[[3.04875845e+10 1.12249039e+11 6.60187335e+10 6.56426004e+10\n",
      "  1.90588986e+10]\n",
      " [5.64075431e+04 9.47777958e+04 7.77484119e+04 7.81789732e+04\n",
      "  9.81578791e+03]\n",
      " [3.86595410e+02 2.30147247e+03 7.48142222e+02 6.63350887e+02\n",
      "  4.17999208e+02]\n",
      " [4.82294726e+01 1.21147711e+02 8.18230518e+01 8.16193392e+01\n",
      "  1.99941130e+01]\n",
      " [9.11013021e+00 1.19904981e+01 1.07553087e+01 1.06824223e+01\n",
      "  8.34863523e-01]\n",
      " [4.41091724e+02 7.99769208e+02 5.79466464e+02 5.48384263e+02\n",
      "  9.92217160e+01]\n",
      " [4.72861113e+01 1.03260296e+02 6.75998165e+01 6.75274928e+01\n",
      "  1.38791699e+01]\n",
      " [8.52377375e+02 2.66021253e+03 1.70099848e+03 1.62387464e+03\n",
      "  5.49931225e+02]\n",
      " [7.82822812e+02 2.56548809e+03 1.96545504e+03 2.07565798e+03\n",
      "  4.77096067e+02]\n",
      " [1.50516607e+07 2.33720474e+08 6.56907059e+07 5.67521227e+07\n",
      "  4.92464505e+07]\n",
      " [3.05026952e+09 1.12482863e+10 6.60845071e+09 6.56994358e+09\n",
      "  1.91081565e+09]]\n"
     ]
    }
   ],
   "source": [
    "print(Mod_eval_SS[best_model_SS]['results'])"
   ]
  },
  {
   "cell_type": "code",
   "execution_count": 17,
   "id": "a10922a6-c7f7-4fe1-8af8-583c92a07083",
   "metadata": {},
   "outputs": [
    {
     "name": "stdout",
     "output_type": "stream",
     "text": [
      "[[0.5779     1.3135     0.69769    0.67085    0.14705016]\n",
      " [0.6762     1.375      0.795655   0.75805    0.14349722]\n",
      " [0.6116     1.1085     0.740615   0.70935    0.10394731]\n",
      " [0.6363     0.916      0.727515   0.7025     0.08263028]\n",
      " [0.6534     0.9088     0.73361    0.72175    0.06826235]\n",
      " [0.7899     1.7739     0.942535   0.8776     0.20895942]\n",
      " [0.6852     1.3424     0.83017    0.7767     0.14323584]\n",
      " [0.7236     1.1843     0.824755   0.7904     0.10694467]\n",
      " [0.7432     1.6777     0.928845   0.8308     0.22630185]\n",
      " [0.6655     1.1543     0.776215   0.72335    0.13021963]\n",
      " [0.67628    1.27544    0.7997605  0.756135   0.13610487]]\n"
     ]
    }
   ],
   "source": [
    "print(Mod_eval_SS[best_model_SS]['times'])"
   ]
  }
 ],
 "metadata": {
  "kernelspec": {
   "display_name": "Python 3 (ipykernel)",
   "language": "python",
   "name": "python3"
  },
  "language_info": {
   "codemirror_mode": {
    "name": "ipython",
    "version": 3
   },
   "file_extension": ".py",
   "mimetype": "text/x-python",
   "name": "python",
   "nbconvert_exporter": "python",
   "pygments_lexer": "ipython3",
   "version": "3.13.2"
  }
 },
 "nbformat": 4,
 "nbformat_minor": 5
}
